{
 "cells": [
  {
   "cell_type": "code",
   "execution_count": null,
   "id": "942b1a4e-d999-45bf-88e6-2ae09bd8e966",
   "metadata": {},
   "outputs": [],
   "source": [
    "#Importing Libraries\n",
    "import tensorflow\n",
    "import numpy as np\n",
    "import pandas as pd\n",
    "from collections import Counter\n",
    "import random\n",
    "import IPython\n",
    "from IPython.display import Image, Audio\n",
    "import music21\n",
    "from music21 import *\n",
    "# environment.UserSettings()['lilypondPath'] = r\"C:\\Users\\Krishang Virmani\\anaconda3\\envs\\gpu\\Lib\\site-packages\\lilypond-binaries\"'\n",
    "import matplotlib.pyplot as plt\n",
    "from sklearn.model_selection import train_test_split\n",
    "from tensorflow.keras.models import Sequential\n",
    "from tensorflow.keras.layers import LSTM, Dense, Dropout\n",
    "import tensorflow.keras.backend as K\n",
    "from tensorflow.keras.optimizers import Adamax\n",
    "import seaborn as sns\n",
    "import matplotlib.pyplot as plt\n",
    "import matplotlib.patches as mpatches\n",
    "%matplotlib inline\n",
    "import sys\n",
    "import warnings\n",
    "# import lilypond\n",
    "warnings.filterwarnings(\"ignore\")\n",
    "warnings.simplefilter(\"ignore\")\n",
    "np.random.seed(42)"
   ]
  },
  {
   "cell_type": "code",
   "execution_count": null,
   "id": "07a9683c-66ac-4857-9968-5ab54bbc4e99",
   "metadata": {},
   "outputs": [],
   "source": [
    "import os\n",
    "for dirname, _, filenames in os.walk('/content/drive/MyDrive/music generation/data'):\n",
    "    for filename in filenames:\n",
    "        print(os.path.join(dirname, filename))"
   ]
  },
  {
   "cell_type": "code",
   "execution_count": null,
   "id": "c937a173-1c1c-49a4-a691-89585ab3dd34",
   "metadata": {},
   "outputs": [],
   "source": [
    "#Loading the list of chopin's midi files as stream\n",
    "filepath = \"/content/drive/MyDrive/music generation/data/chopin/\"\n",
    "#Getting midi files\n",
    "all_midis= []\n",
    "for i in os.listdir(filepath):\n",
    "    if i.endswith(\".mid\"):\n",
    "        tr = filepath+i\n",
    "        midi = converter.parse(tr)\n",
    "        all_midis.append(midi)"
   ]
  },
  {
   "cell_type": "code",
   "execution_count": null,
   "id": "8747d7c3-af1f-4cc3-80c3-82ab2eade4c7",
   "metadata": {},
   "outputs": [],
   "source": [
    "#Helping function\n",
    "def extract_notes(file):\n",
    "    notes = []\n",
    "    pick = None\n",
    "    for j in file:\n",
    "        songs = instrument.partitionByInstrument(j)\n",
    "        for part in songs.parts:\n",
    "            pick = part.recurse()\n",
    "            for element in pick:\n",
    "                if isinstance(element, note.Note):\n",
    "                    notes.append(str(element.pitch))\n",
    "                elif isinstance(element, chord.Chord):\n",
    "                    notes.append(\".\".join(str(n) for n in element.normalOrder))\n",
    "\n",
    "    return notes\n",
    "#Getting the list of notes as Corpus\n",
    "Corpus= extract_notes(all_midis)\n",
    "print(\"Total notes in all the Chopin midis in the dataset:\", len(Corpus))"
   ]
  },
  {
   "cell_type": "code",
   "execution_count": null,
   "id": "f1674bbc-11d4-41f9-8719-0805675da91d",
   "metadata": {},
   "outputs": [],
   "source": [
    "print(\"First fifty values in the Corpus:\", Corpus[:50])"
   ]
  },
  {
   "cell_type": "code",
   "execution_count": null,
   "id": "b021dc21-b3ee-4ad7-a25e-47d2a8956d4e",
   "metadata": {},
   "outputs": [],
   "source": [
    "#First Lets write some functions that we need to look into the data\n",
    "def show(music):\n",
    "    display(Image(str(music.write(\"lily.png\"))))\n",
    "\n",
    "def chords_n_notes(Snippet):\n",
    "    Melody = []\n",
    "    offset = 0 #Incremental\n",
    "    for i in Snippet:\n",
    "        #If it is chord\n",
    "        if (\".\" in i or i.isdigit()):\n",
    "            chord_notes = i.split(\".\") #Seperating the notes in chord\n",
    "            notes = []\n",
    "            for j in chord_notes:\n",
    "                inst_note=int(j)\n",
    "                note_snip = note.Note(inst_note)\n",
    "                notes.append(note_snip)\n",
    "                chord_snip = chord.Chord(notes)\n",
    "                chord_snip.offset = offset\n",
    "                Melody.append(chord_snip)\n",
    "        # pattern is a note\n",
    "        else:\n",
    "            note_snip = note.Note(i)\n",
    "            note_snip.offset = offset\n",
    "            Melody.append(note_snip)\n",
    "        # increase offset each iteration so that notes do not stack\n",
    "        offset += 1\n",
    "    Melody_midi = stream.Stream(Melody)\n",
    "    return Melody_midi\n",
    "\n",
    "Melody_Snippet = chords_n_notes(Corpus[:100])\n",
    "show(Melody_Snippet)"
   ]
  },
  {
   "cell_type": "code",
   "execution_count": null,
   "id": "a0945824-93c0-443e-be9a-6d2186474561",
   "metadata": {},
   "outputs": [],
   "source": [
    "#to play audio or corpus\n",
    "print(\"Sample Audio From Data\")\n",
    "IPython.display.Audio(\"/content/drive/MyDrive/music generation/wavfiles/Corpus_Snippet.wav\")"
   ]
  },
  {
   "cell_type": "code",
   "execution_count": null,
   "id": "7c378011-b62f-4794-88f0-9b8189d14ed7",
   "metadata": {},
   "outputs": [],
   "source": [
    "#Creating a count dictionary\n",
    "count_num = Counter(Corpus)\n",
    "print(\"Total unique notes in the Corpus:\", len(count_num))"
   ]
  },
  {
   "cell_type": "code",
   "execution_count": null,
   "id": "38118251-fec4-42df-bc14-67ff546b3e36",
   "metadata": {},
   "outputs": [],
   "source": [
    "#Exploring the notes dictionary\n",
    "Notes = list(count_num.keys())\n",
    "Recurrence = list(count_num.values())\n",
    "#Average recurrenc for a note in Corpus\n",
    "def Average(lst):\n",
    "    return sum(lst) / len(lst)\n",
    "print(\"Average recurrenc for a note in Corpus:\", Average(Recurrence))\n",
    "print(\"Most frequent note in Corpus appeared:\", max(Recurrence), \"times\")\n",
    "print(\"Least frequent note in Corpus appeared:\", min(Recurrence), \"time\")"
   ]
  },
  {
   "cell_type": "code",
   "execution_count": null,
   "id": "ab0bcee0-8f28-4daa-93ef-41ea18e88057",
   "metadata": {},
   "outputs": [],
   "source": [
    "# Plotting the distribution of Notes\n",
    "plt.figure(figsize=(18,3),facecolor=\"#97BACB\")\n",
    "bins = np.arange(0,(max(Recurrence)), 50)\n",
    "plt.hist(Recurrence, bins=bins, color=\"#97BACB\")\n",
    "plt.axvline(x=100,color=\"#DBACC1\")\n",
    "plt.title(\"Frequency Distribution Of Notes In The Corpus\")\n",
    "plt.xlabel(\"Frequency Of Chords in Corpus\")\n",
    "plt.ylabel(\"Number Of Chords\")\n",
    "plt.show()"
   ]
  },
  {
   "cell_type": "code",
   "execution_count": null,
   "id": "af299a50-c404-497a-bc6d-d8fed8b9e895",
   "metadata": {},
   "outputs": [],
   "source": [
    "#Getting a list of rare chords\n",
    "rare_note = []\n",
    "for index, (key, value) in enumerate(count_num.items()):\n",
    "    if value < 100:\n",
    "        m =  key\n",
    "        rare_note.append(m)\n",
    "\n",
    "print(\"Total number of notes that occur less than 100 times:\", len(rare_note))"
   ]
  },
  {
   "cell_type": "code",
   "execution_count": null,
   "id": "1620b06a-2100-46a9-acb6-9ebd6e83c3bf",
   "metadata": {},
   "outputs": [],
   "source": [
    "#Eleminating the rare notes\n",
    "for element in Corpus:\n",
    "    if element in rare_note:\n",
    "        Corpus.remove(element)\n",
    "\n",
    "print(\"Length of Corpus after elemination the rare notes:\", len(Corpus))"
   ]
  },
  {
   "cell_type": "code",
   "execution_count": null,
   "id": "1d200819-b8ff-4b58-bf38-7a573b0c14d3",
   "metadata": {},
   "outputs": [],
   "source": [
    "# Storing all the unique characters present in my corpus to bult a mapping dic.\n",
    "symb = sorted(list(set(Corpus)))\n",
    "\n",
    "L_corpus = len(Corpus) #length of corpus\n",
    "L_symb = len(symb) #length of total unique characters\n",
    "\n",
    "#Building dictionary to access the vocabulary from indices and vice versa\n",
    "mapping = dict((c, i) for i, c in enumerate(symb))\n",
    "reverse_mapping = dict((i, c) for i, c in enumerate(symb))\n",
    "\n",
    "print(\"Total number of characters:\", L_corpus)\n",
    "print(\"Number of unique characters:\", L_symb)"
   ]
  },
  {
   "cell_type": "code",
   "execution_count": null,
   "id": "b43d2aee-4573-4454-a823-6eb4a84c2ff4",
   "metadata": {},
   "outputs": [],
   "source": [
    "#Splitting the Corpus in equal length of strings and output target\n",
    "length = 40\n",
    "features = []\n",
    "targets = []\n",
    "for i in range(0, L_corpus - length, 1):\n",
    "    feature = Corpus[i:i + length]\n",
    "    target = Corpus[i + length]\n",
    "    features.append([mapping[j] for j in feature])\n",
    "    targets.append(mapping[target])\n",
    "\n",
    "\n",
    "L_datapoints = len(targets)\n",
    "print(\"Total number of sequences in the Corpus:\", L_datapoints)"
   ]
  },
  {
   "cell_type": "code",
   "execution_count": null,
   "id": "26423993-17cc-4c7e-9995-eddc15ca86f1",
   "metadata": {},
   "outputs": [],
   "source": [
    "# reshape X and normalize\n",
    "X = (np.reshape(features, (L_datapoints, length, 1)))/ float(L_symb)\n",
    "# one hot encode the output variable\n",
    "y = tensorflow.keras.utils.to_categorical(targets)"
   ]
  },
  {
   "cell_type": "code",
   "execution_count": null,
   "id": "cdb1828a-bb27-4917-a0f9-d952327cc244",
   "metadata": {},
   "outputs": [],
   "source": [
    "#Taking out a subset of data to be used as seed\n",
    "X_train, X_seed, y_train, y_seed = train_test_split(X, y, test_size=0.2, random_state=42)"
   ]
  },
  {
   "cell_type": "code",
   "execution_count": null,
   "id": "3d81c9db-52ff-40fa-bd50-5bf756e01bd3",
   "metadata": {},
   "outputs": [],
   "source": [
    "#Initialising the Model\n",
    "model = Sequential()\n",
    "#Adding layers\n",
    "model.add(LSTM(512, input_shape=(X.shape[1], X.shape[2]), return_sequences=True))\n",
    "model.add(Dropout(0.1))\n",
    "model.add(LSTM(256))\n",
    "model.add(Dense(256))\n",
    "model.add(Dropout(0.1))\n",
    "model.add(Dense(y.shape[1], activation='softmax'))\n",
    "#Compiling the model for training\n",
    "opt = Adamax(learning_rate=0.01)\n",
    "model.compile(loss='categorical_crossentropy', optimizer=opt)\n"
   ]
  },
  {
   "cell_type": "code",
   "execution_count": null,
   "id": "cfb20e6e-b34d-4a2e-bdde-197bfa1a6c06",
   "metadata": {},
   "outputs": [],
   "source": [
    "#Model's Summary\n",
    "model.summary()"
   ]
  },
  {
   "cell_type": "code",
   "execution_count": null,
   "id": "418d9dee-6562-4d50-a5d4-d2a964c6ff2d",
   "metadata": {},
   "outputs": [],
   "source": [
    "#Training the Model\n",
    "history = model.fit(X_train, y_train, batch_size=128, epochs=50)"
   ]
  },
  {
   "cell_type": "code",
   "execution_count": null,
   "id": "18e934ee-a320-462e-a652-c9eba391b795",
   "metadata": {},
   "outputs": [],
   "source": [
    "#Plotting the learnings\n",
    "history_df = pd.DataFrame(history.history)\n",
    "fig = plt.figure(figsize=(15,4), facecolor=\"#97BACB\")\n",
    "fig.suptitle(\"Learning Plot of Model for Loss\")\n",
    "pl=sns.lineplot(data=history_df[\"loss\"],color=\"#444160\")\n",
    "pl.set(ylabel =\"Training Loss\")\n",
    "pl.set(xlabel =\"Epochs\")"
   ]
  },
  {
   "cell_type": "code",
   "execution_count": null,
   "id": "65c2e792-f64d-461e-b68c-5a88044a5c36",
   "metadata": {},
   "outputs": [],
   "source": [
    "def Malody_Generator(Note_Count):\n",
    "    seed = X_seed[np.random.randint(0,len(X_seed)-1)]\n",
    "    Music = \"\"\n",
    "    Notes_Generated=[]\n",
    "    for i in range(Note_Count):\n",
    "        seed = seed.reshape(1,length,1)\n",
    "        prediction = model.predict(seed, verbose=0)[0]\n",
    "        prediction = np.log(prediction) / 1.0 #diversity\n",
    "        exp_preds = np.exp(prediction)\n",
    "        prediction = exp_preds / np.sum(exp_preds)\n",
    "        index = np.argmax(prediction)\n",
    "        index_N = index/ float(L_symb)\n",
    "        Notes_Generated.append(index)\n",
    "        Music = [reverse_mapping[char] for char in Notes_Generated]\n",
    "        seed = np.insert(seed[0],len(seed[0]),index_N)\n",
    "        seed = seed[1:]\n",
    "    #Now, we have music in form or a list of chords and notes and we want to be a midi file.\n",
    "    Melody = chords_n_notes(Music)\n",
    "    Melody_midi = stream.Stream(Melody)\n",
    "    return Music,Melody_midi\n",
    "\n",
    "\n",
    "#getting the Notes and Melody created by the model\n",
    "Music_notes, Melody = Malody_Generator(100)\n",
    "show(Melody)"
   ]
  },
  {
   "cell_type": "code",
   "execution_count": null,
   "id": "49bea38b-4dae-4f03-8f33-396e243aa871",
   "metadata": {},
   "outputs": [],
   "source": [
    "#To save the generated melody\n",
    "Melody.write('midi','Melody_Generated.mid')\n",
    "#to play audio or corpus\n",
    "IPython.display.Audio(\"/content/drive/MyDrive/music generation/wavfiles/Melody_Generated 2.wav\")"
   ]
  },
  {
   "cell_type": "code",
   "execution_count": null,
   "id": "cb100f08-0e05-4e8a-b41d-9244ed64a733",
   "metadata": {},
   "outputs": [],
   "source": [
    "#to play audio or corpus\n",
    "IPython.display.Audio(\"/content/drive/MyDrive/music generation/wavfiles/Melody_Generated_1.wav\")"
   ]
  }
 ],
 "metadata": {
  "kernelspec": {
   "display_name": "Python 3 (ipykernel)",
   "language": "python",
   "name": "python3"
  },
  "language_info": {
   "codemirror_mode": {
    "name": "ipython",
    "version": 3
   },
   "file_extension": ".py",
   "mimetype": "text/x-python",
   "name": "python",
   "nbconvert_exporter": "python",
   "pygments_lexer": "ipython3",
   "version": "3.11.5"
  }
 },
 "nbformat": 4,
 "nbformat_minor": 5
}
